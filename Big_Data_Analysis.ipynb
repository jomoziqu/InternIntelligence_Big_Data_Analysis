{
 "cells": [
  {
   "cell_type": "code",
   "execution_count": 49,
   "id": "4084d86c-0301-46a8-ac08-203ca7d8122c",
   "metadata": {},
   "outputs": [],
   "source": [
    "import pyspark\n",
    "import seaborn as sns\n",
    "from pyspark.sql import SparkSession\n",
    "from pyspark.sql.functions import col, when, dayofweek, hour, avg, count, desc"
   ]
  },
  {
   "cell_type": "code",
   "execution_count": 2,
   "id": "3b39d268-ef84-47a0-bbb3-b718f11d9c75",
   "metadata": {},
   "outputs": [],
   "source": [
    "spark = SparkSession.builder \\\n",
    "    .appName(\"NYCYellowTaxiAnalysis\") \\\n",
    "    .getOrCreate()"
   ]
  },
  {
   "cell_type": "code",
   "execution_count": 72,
   "id": "117f94f9-85e2-4346-9d85-b815b53a04dd",
   "metadata": {
    "scrolled": true
   },
   "outputs": [],
   "source": [
    "# Load dataset\n",
    "df = spark.read.parquet(\"data/yellow_tripdata_2025-01.parquet\", header=True, inferSchema=True)"
   ]
  },
  {
   "cell_type": "markdown",
   "id": "fedac5ae-c002-4cbc-b821-13dc3be9f80f",
   "metadata": {},
   "source": [
    "### Basic Data Exploration"
   ]
  },
  {
   "cell_type": "code",
   "execution_count": 68,
   "id": "14405d5e-57fe-4e02-b22d-28a1e465d031",
   "metadata": {},
   "outputs": [
    {
     "name": "stdout",
     "output_type": "stream",
     "text": [
      "Number of rows: 3475226\n",
      "root\n",
      " |-- VendorID: integer (nullable = true)\n",
      " |-- tpep_pickup_datetime: timestamp_ntz (nullable = true)\n",
      " |-- tpep_dropoff_datetime: timestamp_ntz (nullable = true)\n",
      " |-- passenger_count: long (nullable = true)\n",
      " |-- trip_distance: double (nullable = true)\n",
      " |-- RatecodeID: long (nullable = true)\n",
      " |-- store_and_fwd_flag: string (nullable = true)\n",
      " |-- PULocationID: integer (nullable = true)\n",
      " |-- DOLocationID: integer (nullable = true)\n",
      " |-- payment_type: long (nullable = true)\n",
      " |-- fare_amount: double (nullable = true)\n",
      " |-- extra: double (nullable = true)\n",
      " |-- mta_tax: double (nullable = true)\n",
      " |-- tip_amount: double (nullable = true)\n",
      " |-- tolls_amount: double (nullable = true)\n",
      " |-- improvement_surcharge: double (nullable = true)\n",
      " |-- total_amount: double (nullable = true)\n",
      " |-- congestion_surcharge: double (nullable = true)\n",
      " |-- Airport_fee: double (nullable = true)\n",
      "\n",
      "+-------+------------------+-----------------+------------------+\n",
      "|summary|   passenger_count|    trip_distance|      total_amount|\n",
      "+-------+------------------+-----------------+------------------+\n",
      "|  count|           2935077|          3475226|           3475226|\n",
      "|   mean|1.2978589658806226|5.855126178843539|25.611291697280986|\n",
      "| stddev|0.7507502754804695|564.6015996346273| 463.6584784502166|\n",
      "|    min|                 0|              0.0|            -901.0|\n",
      "|    max|                 9|        276423.57|         863380.37|\n",
      "+-------+------------------+-----------------+------------------+\n",
      "\n"
     ]
    }
   ],
   "source": [
    "print(f\"Number of rows: {df.count()}\")\n",
    "df.printSchema()\n",
    "df.describe(\"passenger_count\", \"trip_distance\", \"total_amount\").show()"
   ]
  },
  {
   "cell_type": "code",
   "execution_count": 16,
   "id": "10ce32f1-24d6-4dbf-ab5c-45534ee20c67",
   "metadata": {},
   "outputs": [],
   "source": [
    "# Data Cleaning\n",
    "df = df.filter(\n",
    "    (col(\"trip_distance\") > 0) &\n",
    "    (col(\"fare_amount\") > 0) &\n",
    "    (col(\"passenger_count\").between(1, 6))\n",
    ")"
   ]
  },
  {
   "cell_type": "code",
   "execution_count": 18,
   "id": "7f84ab71-64b5-486a-9046-d39b6d6760d3",
   "metadata": {},
   "outputs": [
    {
     "name": "stdout",
     "output_type": "stream",
     "text": [
      "+-----------+------+\n",
      "|pickup_hour| count|\n",
      "+-----------+------+\n",
      "|          0| 65123|\n",
      "|          1| 43681|\n",
      "|          2| 29457|\n",
      "|          3| 19146|\n",
      "|          4| 12330|\n",
      "|          5| 15376|\n",
      "|          6| 34876|\n",
      "|          7| 74157|\n",
      "|          8|105864|\n",
      "|          9|122244|\n",
      "|         10|133609|\n",
      "|         11|144633|\n",
      "|         12|157095|\n",
      "|         13|165943|\n",
      "|         14|178804|\n",
      "|         15|188209|\n",
      "|         16|190745|\n",
      "|         17|206976|\n",
      "|         18|205987|\n",
      "|         19|174654|\n",
      "|         20|157907|\n",
      "|         21|161520|\n",
      "|         22|134143|\n",
      "|         23| 94346|\n",
      "+-----------+------+\n",
      "\n"
     ]
    }
   ],
   "source": [
    "# Temporal Analysis (hourly trips)\n",
    "hourly_trips = df.withColumn(\"pickup_hour\", hour(\"tpep_pickup_datetime\")) \\\n",
    "    .groupBy(\"pickup_hour\") \\\n",
    "    .count() \\\n",
    "    .orderBy(\"pickup_hour\")\n",
    "\n",
    "hourly_trips.show(24)\n",
    "# hourly_trips.toPandas().plot(x=\"pickup_hour\", y=\"count\", kind=\"bar\")  # For visualization\n"
   ]
  },
  {
   "cell_type": "code",
   "execution_count": 20,
   "id": "805c8eeb-a368-45c8-a6c1-918d731cae33",
   "metadata": {},
   "outputs": [
    {
     "data": {
      "text/plain": [
       "<Axes: xlabel='pickup_hour'>"
      ]
     },
     "execution_count": 20,
     "metadata": {},
     "output_type": "execute_result"
    },
    {
     "data": {
      "image/png": "[encoded data removed]",
      "text/plain": [
       "<Figure size 640x480 with 1 Axes>"
      ]
     },
     "metadata": {},
     "output_type": "display_data"
    }
   ],
   "source": [
    "hourly_trips.toPandas().plot(x=\"pickup_hour\", y=\"count\", kind=\"bar\")"
   ]
  },
  {
   "cell_type": "markdown",
   "id": "279e78e0-cda3-4b91-a4a3-d3c41d359604",
   "metadata": {},
   "source": [
    "### Observations from above\n",
    "#### Peak Hours:\n",
    "\n",
    "Morning Rush: 8 AM to 10 AM (8–10): Steady increase from 105,864 to 133,609 trips.\n",
    "\n",
    "Evening Rush: 5 PM (17) has the highest count (206,976), likely due to commuters heading home.\n",
    "\n",
    "Midday: 12 PM–3 PM (12–15): High activity (157,095–188,209), possibly from lunchtime errands or business travel.\n",
    "\n",
    "#### Lowest Activity:\n",
    "\n",
    "4 AM (4): Only 12,330 trips (quietest hour).\n",
    "\n",
    "3 AM (3): 19,146 trips, reflecting late-night inactivity.\n",
    "\n",
    "#### Unexpected Patterns:\n",
    "\n",
    "5 AM (5): A small spike (15,376) after 4 AM’s low, possibly due to early airport trips or shift workers.\n",
    "\n",
    "9 PM (21): Slight increase (161,520) compared to 8 PM (157,907), likely from nightlife or events.\n",
    "\n"
   ]
  },
  {
   "cell_type": "code",
   "execution_count": 32,
   "id": "3dc5f7ec-460d-4dd1-9359-d990d03da091",
   "metadata": {},
   "outputs": [
    {
     "name": "stdout",
     "output_type": "stream",
     "text": [
      "+---------------+------------------+------------------+\n",
      "|passenger_count|      avg_distance|  avg_total_amount|\n",
      "+---------------+------------------+------------------+\n",
      "|              6| 3.090298682775396|26.368257404144682|\n",
      "|              5|2.9642779322476316|26.054086704874287|\n",
      "|              1| 3.125728609079176|27.079292845809334|\n",
      "|              3|3.5089576762351378|29.606928025687875|\n",
      "|              2|3.7005294650768015|30.246608996538143|\n",
      "|              4|3.8281838094368994|31.940923610477252|\n",
      "+---------------+------------------+------------------+\n",
      "\n"
     ]
    }
   ],
   "source": [
    "# Fare vs. Distance Analysis\n",
    "fare_distance_stats = df.groupBy(\"passenger_count\") \\\n",
    "    .agg(\n",
    "        avg(\"trip_distance\").alias(\"avg_distance\"),\n",
    "        avg(\"total_amount\").alias(\"avg_total_amount\")\n",
    "    )\n",
    "fare_distance_stats.show()"
   ]
  },
  {
   "cell_type": "markdown",
   "id": "240a6de9-3586-44eb-b98c-124bd21f6418",
   "metadata": {},
   "source": [
    "### Observations from above"
   ]
  },
  {
   "cell_type": "markdown",
   "id": "c547438c-9703-4582-97c2-f32a730ca6bd",
   "metadata": {},
   "source": [
    "#### Non-Linear Relationship:\n",
    "\n",
    "Passenger count 1: Highest average total fare ($27.08) despite a moderate distance (3.13 miles).\n",
    "\n",
    "Passenger count 4: Longest average distance (3.83 miles) and highest total fare ($31.94).\n",
    "\n",
    "Passenger counts 5–6: Lower averages compared to smaller groups (e.g., 6 passengers: $26.37 total fare for 3.09 miles).\n",
    "\n",
    "#### Unexpected Patterns:\n",
    "\n",
    "Trips with 2 passengers have a higher average fare ($30.25), than trips with 3 passengers ($29.61), even though the distance for 3 passengers is shorter.\n",
    "\n",
    "Single-passenger trips generate higher revenue than larger groups (5–6 passengers)."
   ]
  },
  {
   "cell_type": "markdown",
   "id": "b5a145c5-daf5-400d-bd5b-0e72590638e4",
   "metadata": {},
   "source": [
    "#### 1. Segment by Trip Type (Airport vs. City Rides)"
   ]
  },
  {
   "cell_type": "code",
   "execution_count": 51,
   "id": "c2c5579d-d1d3-406f-abc9-de4fc2f1730d",
   "metadata": {
    "scrolled": true
   },
   "outputs": [
    {
     "name": "stdout",
     "output_type": "stream",
     "text": [
      "+---------------+---------+------------------+------------------+----------+\n",
      "|passenger_count|trip_type|      avg_distance|  avg_total_amount|trip_count|\n",
      "+---------------+---------+------------------+------------------+----------+\n",
      "|              1|  airport|17.739476217253195| 95.81405695950016|     60464|\n",
      "|              1|     city|2.7223117156340075| 25.18184903099232|   2190304|\n",
      "|              2|  airport|17.710339707622463| 94.65383831443663|     26199|\n",
      "|              2|     city|2.7023379148672344|25.657628063572663|    367708|\n",
      "|              3|  airport|17.617690506598567| 97.43000851426193|      4698|\n",
      "|              3|     city|  2.71157028571429| 25.77375109774447|     83125|\n",
      "|              4|  airport|17.480593900481548| 93.86353130016099|      3115|\n",
      "|              4|     city|3.0051287013741117|28.207830462550888|     51670|\n",
      "|              5|  airport|18.126771217712182| 94.69586715867152|       542|\n",
      "|              5|     city| 2.483154382061939|23.876003161407418|     17081|\n",
      "|              6|  airport|17.737583333333337|  93.7222916666666|       480|\n",
      "|              6|     city|2.4756735728647588|23.541966955153423|     11439|\n",
      "+---------------+---------+------------------+------------------+----------+\n",
      "\n"
     ]
    }
   ],
   "source": [
    "# Classify airport vs. city trips\n",
    "df = df.withColumn(\n",
    "    \"trip_type\",\n",
    "    when(col(\"RatecodeID\").isin(2, 3), \"airport\").otherwise(\"city\")\n",
    ")\n",
    "\n",
    "# Aggregate by passenger_count and trip_type\n",
    "airport_city_stats = df.groupBy(\"passenger_count\", \"trip_type\") \\\n",
    "    .agg(\n",
    "        avg(\"trip_distance\").alias(\"avg_distance\"),\n",
    "        avg(\"total_amount\").alias(\"avg_total_amount\"),\n",
    "        count(\"*\").alias(\"trip_count\")\n",
    "    ) \\\n",
    "    .orderBy(\"passenger_count\", \"trip_type\")\n",
    "\n",
    "airport_city_stats.show()"
   ]
  },
  {
   "cell_type": "markdown",
   "id": "2272a18d-60a1-4ebb-ae75-f1dba98de092",
   "metadata": {},
   "source": [
    "### Observations from above\n",
    "\n",
    "#### Airport Rides:\n",
    "##### Longer Distance, Higher Fare:\n",
    "\n",
    "- All airport trips (regardless of passenger count) have ~17–18 miles average distance and ~$93–97 total fare.\n",
    "\n",
    "  Likely due to fixed routes (e.g., NYC to JFK/Newark airports is ~17–20 miles).\n",
    "\n",
    "##### Fixed Pricing:\n",
    "\n",
    "- Minimal fare variation across passenger counts (e.g., 1 passenger: $95.81, 6 passengers: $93.72).\n",
    "\n",
    "  Suggests flat-rate pricing for airport trips (common in NYC).\n",
    "\n",
    "\n",
    "#### City Rides:\n",
    "##### Shorter Distance, Lower Fare:\n",
    "\n",
    "- Average city trip distance ranges from 2.5–3 miles with fares $23–28.\n",
    "\n",
    "  Higher passenger counts (4) correlate with slightly longer distances and higher fares.\n",
    "\n",
    "##### Passenger Count Impact:\n",
    "\n",
    "- Trips with 4 passengers have the highest city fare ($28.21), likely due to longer leisure trips (e.g., family outings).\n",
    "\n",
    "  5–6 passengers show lower fares ($23–24) despite similar distances, hinting at discounts for group rides.\n",
    "\n",
    "\n",
    "#### Airport vs. City Trip Economics:\n",
    "##### Revenue Contribution:\n",
    "\n",
    "- Airport rides are high-value (e.g., 1 passenger airport ride: $95.81 vs. city ride: $25.18).\n",
    "\n",
    "  However, city rides dominate volume (e.g., 1 passenger: 2.1M city trips vs. 60K airport trips).\n",
    "\n",
    "##### Passenger Behavior:\n",
    "\n",
    "- Solo travelers and pairs (1–2 passengers) dominate airport rides, while larger groups (5–6) are rare.\n",
    "\n",
    "  Groups of 4 are the most common for city rides with higher spending.\n",
    "\n",
    "\n",
    "#### Group Size Dynamics:\n",
    "##### City Rides:\n",
    "\n",
    "- 4 passengers: Highest fare ($28.21), likely due to family trips or events.\n",
    "\n",
    "  5–6 passengers: Lower fares despite similar distances, suggesting discounts (e.g., shared ride promotions).\n",
    "\n",
    "##### Airport Rides:\n",
    "\n",
    "- No fare premium for larger groups—flat pricing makes them less cost-effective per person for groups.\n",
    "\n",
    "#### Data Skew:\n",
    "##### Sample Size:\n",
    "\n",
    "- Very few airport trips for groups of 5–6 (e.g., 6 passengers: only 480 airport trips).\n",
    "\n",
    "  City trips with 5–6 passengers are also sparse (11K–17K trips), making averages less reliable.\n",
    "\n"
   ]
  },
  {
   "cell_type": "markdown",
   "id": "c0484c76-5c46-4708-928c-a87db5a8fa4d",
   "metadata": {},
   "source": [
    "#### 2. Time-of-Day Analysis for 5–6 Passenger Trips"
   ]
  },
  {
   "cell_type": "code",
   "execution_count": 55,
   "id": "b5379e1f-0eb8-4809-9ed9-06733080cfa5",
   "metadata": {
    "scrolled": true
   },
   "outputs": [
    {
     "name": "stdout",
     "output_type": "stream",
     "text": [
      "+----------+-----------+-----+\n",
      "|is_weekend|pickup_hour|count|\n",
      "+----------+-----------+-----+\n",
      "|         0|          0|  373|\n",
      "|         0|          1|  225|\n",
      "|         0|          2|  128|\n",
      "|         0|          3|   65|\n",
      "|         0|          4|   61|\n",
      "|         0|          5|  149|\n",
      "|         0|          6|  312|\n",
      "|         0|          7|  723|\n",
      "|         0|          8|  979|\n",
      "|         0|          9| 1070|\n",
      "|         0|         10| 1082|\n",
      "|         0|         11| 1140|\n",
      "|         0|         12| 1148|\n",
      "|         0|         13| 1225|\n",
      "|         0|         14| 1383|\n",
      "|         0|         15| 1436|\n",
      "|         0|         16| 1470|\n",
      "|         0|         17| 1682|\n",
      "|         0|         18| 1565|\n",
      "|         0|         19| 1307|\n",
      "|         0|         20| 1274|\n",
      "|         0|         21| 1324|\n",
      "|         0|         22| 1059|\n",
      "|         0|         23|  692|\n",
      "|         1|          0|  350|\n",
      "|         1|          1|  267|\n",
      "|         1|          2|  163|\n",
      "|         1|          3|  126|\n",
      "|         1|          4|   56|\n",
      "|         1|          5|   40|\n",
      "|         1|          6|   80|\n",
      "|         1|          7|   99|\n",
      "|         1|          8|  169|\n",
      "|         1|          9|  265|\n",
      "|         1|         10|  345|\n",
      "|         1|         11|  402|\n",
      "|         1|         12|  460|\n",
      "|         1|         13|  505|\n",
      "|         1|         14|  465|\n",
      "|         1|         15|  524|\n",
      "|         1|         16|  510|\n",
      "|         1|         17|  529|\n",
      "|         1|         18|  485|\n",
      "|         1|         19|  400|\n",
      "|         1|         20|  370|\n",
      "|         1|         21|  384|\n",
      "|         1|         22|  369|\n",
      "|         1|         23|  307|\n",
      "+----------+-----------+-----+\n",
      "\n"
     ]
    },
    {
     "data": {
      "text/plain": [
       "<Axes: xlabel='pickup_hour', ylabel='count'>"
      ]
     },
     "execution_count": 55,
     "metadata": {},
     "output_type": "execute_result"
    },
    {
     "data": {
      "image/png": "[encoded data removed]",
      "text/plain": [
       "<Figure size 640x480 with 1 Axes>"
      ]
     },
     "metadata": {},
     "output_type": "display_data"
    }
   ],
   "source": [
    "# Filter for 5–6 passenger trips and extract hour/weekday\n",
    "df_5_6 = df.filter(col(\"passenger_count\").isin(5, 6)) \\\n",
    "    .withColumn(\"pickup_hour\", hour(\"tpep_pickup_datetime\")) \\\n",
    "    .withColumn(\"is_weekend\", when(dayofweek(\"tpep_pickup_datetime\").isin(1, 7), 1).otherwise(0))\n",
    "\n",
    "# Hourly distribution on weekends vs. weekdays\n",
    "peak_hour_analysis = df_5_6.groupBy(\"is_weekend\", \"pickup_hour\") \\\n",
    "    .count() \\\n",
    "    .orderBy(\"is_weekend\", \"pickup_hour\")\n",
    "\n",
    "peak_hour_analysis.show(48)\n",
    "\n",
    "# For visualization (Pandas-compatible):\n",
    "pd_df = peak_hour_analysis.toPandas()\n",
    "sns.barplot(x=\"pickup_hour\", y=\"count\", hue=\"is_weekend\", data=pd_df)"
   ]
  },
  {
   "cell_type": "markdown",
   "id": "40c7e0a6-791e-4992-94bf-ae9b0cb108ea",
   "metadata": {
    "jp-MarkdownHeadingCollapsed": true
   },
   "source": [
    "### Observations from above\n",
    "\n",
    "#### 1. Weekday Patterns (is_weekend=0):\n",
    "<b>Morning Rush:</b> Peaks at 8 AM (979 trips) and 5 PM (1,682 trips) align with typical work commutes.\n",
    "\n",
    "- Suggests groups of 5–6 passengers carpooling to workplaces or schools.\n",
    "\n",
    "<b>Midday Lull:</b> Lower activity between 10 AM–3 PM compared to weekends.\n",
    "\n",
    "<b>Late-Night Drop:</b> Trips plummet after 10 PM, hitting a low at 4 AM (61 trips).\n",
    "\n",
    "#### 2. Weekend Patterns (is_weekend=1):\n",
    "<b>Nightlife Surge:</b> Higher late-night activity at 12–3 AM (e.g., 350 trips at midnight vs. 373 on weekdays).\n",
    "\n",
    "- Likely groups traveling to/from parties, bars, or events.\n",
    "\n",
    "<b>Afternoon Peaks:</b> Gradual rise to 3 PM (505 trips) and 5 PM (529 trips).\n",
    "\n",
    "- Matches leisure activities (e.g., family outings, shopping).\n",
    "\n",
    "<b>No Morning Rush:</b> Low activity at 5–8 AM (e.g., 40 trips at 5 AM vs. 149 on weekdays).\n",
    "\n",
    "#### 3. Critical Contrasts:\n",
    "##### Weekday Focus:\n",
    "\n",
    "<b>Commute-Driven:</b> 5–6 passenger trips cluster around work hours (7–9 AM and 4–7 PM).\n",
    "\n",
    "<b>Lunchtime Dip:</b> Fewer trips during midday compared to weekends.\n",
    "\n",
    "#### Weekend Focus:\n",
    "\n",
    "<b>Nightlife and Leisure:</b> Sustained activity from noon to midnight, with no sharp drop-off.\n",
    "\n",
    "<b>No Rush Hours:<b> Traffic is distributed more evenly."
   ]
  },
  {
   "cell_type": "markdown",
   "id": "9a2e71c3-ad5e-476d-9543-02f26374b83c",
   "metadata": {},
   "source": [
    "### Recommendations from above analysis\n",
    "\n",
    "##### Target Weekday Commuters:\n",
    "\n",
    "- Offer group discounts during rush hours (7–9 AM and 4–7 PM) to incentivize carpooling.\n",
    "\n",
    "- Partner with offices/schools to promote shared rides.\n",
    "\n",
    "##### Weekend Nightlife Strategy:\n",
    "\n",
    "- Increase driver availability in entertainment districts (e.g., bars, concert venues) during 10 PM–2 AM.\n",
    "\n",
    "- Run promotions like \"Weekend Group Rides\" with free upgrades to larger vehicles.\n",
    "\n",
    "##### Midday Weekend Opportunities:\n",
    "\n",
    "- Advertise family-friendly packages (e.g., \"Weekend Family Outing Discounts\") for 3–5 PM slots.\n",
    "\n"
   ]
  },
  {
   "cell_type": "markdown",
   "id": "86a13bee-5388-4d26-9987-3e4681a89141",
   "metadata": {},
   "source": [
    "#### 3. Fare Component Breakdown"
   ]
  },
  {
   "cell_type": "code",
   "execution_count": 45,
   "id": "4da8feef-6641-4b09-be05-8f47b6cad906",
   "metadata": {},
   "outputs": [
    {
     "name": "stdout",
     "output_type": "stream",
     "text": [
      "+---------------+------------------+------------------+-------------------+------------------+-------------------+------------------+\n",
      "|passenger_count|          avg_fare|     avg_surcharge|            avg_tax|           avg_tip|          avg_tolls|         avg_total|\n",
      "+---------------+------------------+------------------+-------------------+------------------+-------------------+------------------+\n",
      "|              1|17.778546784919776|1.6330467778109519| 0.4967127887014566| 3.437333865595925|0.47695200482691363|27.079292845809334|\n",
      "|              2|20.166688025346307|1.5023116623974693| 0.4938919592695738|3.8293876473383524| 0.7296543346527125|30.246608996538143|\n",
      "|              3|19.855320701866226| 1.426144631816267| 0.4895813169670815|3.6066296983705284| 0.7339446386481736|29.606928025687875|\n",
      "|              4| 22.18569644975815| 1.336063703568495| 0.4784156247147942|3.6018098019530265| 0.7821478506890364|31.940923610477252|\n",
      "|              5| 16.85873063610056|1.0461896385405436|0.49724791465698237|3.4076649832605126|  0.393277535039439|26.054086704874287|\n",
      "|              6|17.346446849567915| 0.828551052940683| 0.4984478563637889|3.4087339541907893| 0.4047118046816025|26.368257404144682|\n",
      "+---------------+------------------+------------------+-------------------+------------------+-------------------+------------------+\n",
      "\n"
     ]
    }
   ],
   "source": [
    "# Assuming columns: fare_amount, extra (surcharges), mta_tax, tip_amount, tolls_amount\n",
    "fare_component_analysis = df.groupBy(\"passenger_count\") \\\n",
    "    .agg(\n",
    "        avg(\"fare_amount\").alias(\"avg_fare\"),\n",
    "        avg(\"extra\").alias(\"avg_surcharge\"),\n",
    "        avg(\"mta_tax\").alias(\"avg_tax\"),\n",
    "        avg(\"tip_amount\").alias(\"avg_tip\"),\n",
    "        avg(\"tolls_amount\").alias(\"avg_tolls\"),\n",
    "        avg(\"total_amount\").alias(\"avg_total\")\n",
    "    ) \\\n",
    "    .orderBy(\"passenger_count\")\n",
    "\n",
    "fare_component_analysis.show()"
   ]
  },
  {
   "cell_type": "markdown",
   "id": "b9fd47bb-36bf-4e18-bac3-1e1adbf042fb",
   "metadata": {},
   "source": [
    "#### 1. Geospatial Analysis: Identify Hotspots"
   ]
  },
  {
   "cell_type": "code",
   "execution_count": 57,
   "id": "e746714b-2293-416d-a45e-732983e979d8",
   "metadata": {},
   "outputs": [
    {
     "name": "stdout",
     "output_type": "stream",
     "text": [
      "Weekday Business Hotspots\n",
      "+----------------------------+---------+-----+\n",
      "|Zone                        |Borough  |count|\n",
      "+----------------------------+---------+-----+\n",
      "|Upper East Side North       |Manhattan|20338|\n",
      "|Upper East Side South       |Manhattan|14934|\n",
      "|Penn Station/Madison Sq West|Manhattan|13987|\n",
      "|Midtown East                |Manhattan|10602|\n",
      "|Lenox Hill East             |Manhattan|8946 |\n",
      "|Upper West Side South       |Manhattan|8834 |\n",
      "|Lenox Hill West             |Manhattan|8492 |\n",
      "|Murray Hill                 |Manhattan|8306 |\n",
      "|Midtown Center              |Manhattan|8211 |\n",
      "|Upper West Side North       |Manhattan|8197 |\n",
      "+----------------------------+---------+-----+\n",
      "only showing top 10 rows\n",
      "\n",
      "Weekend Nightlife Hotspots\n",
      "+----------------------------+---------+-----+\n",
      "|Zone                        |Borough  |count|\n",
      "+----------------------------+---------+-----+\n",
      "|East Village                |Manhattan|12311|\n",
      "|West Village                |Manhattan|9995 |\n",
      "|Greenwich Village South     |Manhattan|8769 |\n",
      "|Lower East Side             |Manhattan|7112 |\n",
      "|JFK Airport                 |Queens   |6681 |\n",
      "|Clinton East                |Manhattan|5806 |\n",
      "|Times Sq/Theatre District   |Manhattan|5405 |\n",
      "|Lincoln Square East         |Manhattan|3997 |\n",
      "|Gramercy                    |Manhattan|3993 |\n",
      "|Penn Station/Madison Sq West|Manhattan|3836 |\n",
      "+----------------------------+---------+-----+\n",
      "only showing top 10 rows\n",
      "\n"
     ]
    }
   ],
   "source": [
    "# Load Taxi Zone Lookup Data (from NYC TLC)\n",
    "taxi_zone_df = spark.read.csv(\"taxi_zone_lookup.csv\", header=True, inferSchema=True)\n",
    "\n",
    "# Join with trip data to get pickup zone names\n",
    "df_with_zones = df.join(\n",
    "    taxi_zone_df,\n",
    "    df.PULocationID == taxi_zone_df.LocationID,\n",
    "    \"left\"\n",
    ").select(\n",
    "    \"passenger_count\",\n",
    "    \"tpep_pickup_datetime\",\n",
    "    \"PULocationID\",\n",
    "    \"Zone\",  # Name of the pickup zone \n",
    "    \"Borough\",\n",
    ")\n",
    "\n",
    "# Analyze weekday morning rush (7–9 AM) in business districts\n",
    "weekday_business_hotspots = df_with_zones.filter(\n",
    "    (dayofweek(\"tpep_pickup_datetime\").between(2, 6)) &  # Weekdays (Mon-Fri)\n",
    "    (hour(\"tpep_pickup_datetime\").between(7, 9))\n",
    ").groupBy(\"Zone\", \"Borough\").count().orderBy(desc(\"count\"))\n",
    "print(\"Weekday Business Hotspots\")\n",
    "weekday_business_hotspots.show(10, truncate=False)\n",
    "\n",
    "# Analyze weekend nightlife (10 PM–2 AM) in entertainment zones\n",
    "weekend_nightlife_hotspots = df_with_zones.filter(\n",
    "    (dayofweek(\"tpep_pickup_datetime\").isin(1, 7)) &  # Weekend (Sat/Sun)\n",
    "    (hour(\"tpep_pickup_datetime\").between(22, 23) |  # 10 PM–11:59 PM\n",
    "     hour(\"tpep_pickup_datetime\").between(0, 2)      # 12 AM–2 AM\n",
    ")).groupBy(\"Zone\", \"Borough\").count().orderBy(desc(\"count\"))\n",
    "\n",
    "print(\"Weekend Nightlife Hotspots\")\n",
    "weekend_nightlife_hotspots.show(10, truncate=False)"
   ]
  },
  {
   "cell_type": "markdown",
   "id": "a6735ea7-2ee0-4cfd-9e84-de1a1eb3dfb8",
   "metadata": {},
   "source": [
    "#### Observation from above analysis\n",
    "\n",
    "##### Weekday Business Hotspots\n",
    "##### Key Observations:\n",
    "<b>Dominant Borough:</b> All top 10 zones are in Manhattan, reflecting its role as NYC’s business hub.\n",
    "\n",
    "##### Key Zones:\n",
    "\n",
    " - <b>Upper East Side North/South:</b> Affluent residential and commercial areas with corporate offices.\n",
    "\n",
    " - <b>Penn Station/Midtown West:</b> Major transit hub for commuters (e.g., NJ/Long Island commuters).\n",
    "\n",
    " - <b>Midtown East:</b> Headquarters of multinational firms (e.g., UN, Bloomberg LP).\n",
    "\n",
    " - <b>Pattern:</b> High demand aligns with 9-to-5 work schedules and commuting peaks.\n",
    "\n",
    "\n",
    "##### Weekend Nightlife Hotspots\n",
    "##### Key Observations:\n",
    "##### Nightlife Zones:\n",
    "\n",
    " - <b>East Village, West Village, Greenwich Village:</b> Bars, clubs, and restaurants drive demand.\n",
    "\n",
    " - <b>Lower East Side:</b> Known for trendy nightlife venues.\n",
    "\n",
    "#### Unexpected Zone:\n",
    "\n",
    " - <b>JFK Airport (Queens):</b> Likely reflects weekend leisure travel (e.g., tourists arriving/departing).\n",
    "\n",
    "#### Entertainment Zones:\n",
    "\n",
    " - <b>Times Sq/Theatre District:</b> Weekend shows and tourism."
   ]
  },
  {
   "cell_type": "markdown",
   "id": "e55491cb-f68e-493e-80db-8562ec49b7b2",
   "metadata": {},
   "source": [
    "### Recommendations\n",
    "\n",
    " - <b>Driver Allocation:</b> Prioritize surge pricing and driver availability in these zones during 7–9 AM and 4–7 PM.\n",
    "\n",
    " - <b>Corporate Partnerships:</b> Partner with offices to offer subsidized commuter rides.\n",
    "\n",
    " - <b>Nightlife Focus:</b> Increase driver availability in nightlife zones during 10 PM–2 AM.\n",
    "\n",
    " - <b>Airport Coordination:</b> Partner with airlines to promote taxi vouchers for weekend travelers."
   ]
  },
  {
   "cell_type": "markdown",
   "id": "641ce7e8-b33a-47b4-8223-752e13326620",
   "metadata": {},
   "source": [
    "#### 2. Pricing Breakdown: Weekday vs. Weekend Fares"
   ]
  },
  {
   "cell_type": "code",
   "execution_count": 59,
   "id": "726a42e7-436d-4bfc-9acd-3278ca40c547",
   "metadata": {},
   "outputs": [
    {
     "name": "stdout",
     "output_type": "stream",
     "text": [
      "+----------+---------------+------------------+------------------+-------------------+------------------+\n",
      "|is_weekend|passenger_count|         avg_total|          avg_fare|          avg_tolls|           avg_tip|\n",
      "+----------+---------------+------------------+------------------+-------------------+------------------+\n",
      "|         0|              1|27.383209081797354|17.911561103579242|  0.478820117600684| 3.469618123119002|\n",
      "|         0|              2|31.211753343789862| 20.74590581622734| 0.7916406325510423|3.9261816093323265|\n",
      "|         0|              3|31.115031739015222|20.853860666607705| 0.8421909645477745|3.7581418088585887|\n",
      "|         0|              4| 34.07601764428204|23.740204473031973| 0.9325876312994175| 3.779516405051314|\n",
      "|         0|              5|  26.4467931998137| 16.97991849091757|  0.411502095947836| 3.486924390622574|\n",
      "|         0|              6|26.528863181312538|17.323781979977724|  0.401490545050057|3.4527007786429382|\n",
      "|         1|              1| 26.04762987361654|17.327021229237946| 0.4706105773267767|3.3277429022730254|\n",
      "|         1|              2|28.167925717167478| 18.91919552285406| 0.5961511116804483|3.6209172864908568|\n",
      "|         1|              3| 26.87919342458742|18.049243315850042| 0.5381575412562365| 3.332586989893795|\n",
      "|         1|              4| 28.47743789786051|  19.6640200067008| 0.5381089360072693|3.3135394629780213|\n",
      "|         1|              5|24.987044927230542|16.529445264712077|0.34375870069605613| 3.192305420797302|\n",
      "|         1|              6|25.875308979173774|17.416012290884257| 0.4145988391942642| 3.273786275179241|\n",
      "+----------+---------------+------------------+------------------+-------------------+------------------+\n",
      "\n"
     ]
    }
   ],
   "source": [
    "\n",
    "fare_comparison = df.withColumn(\n",
    "    \"is_weekend\",\n",
    "    dayofweek(\"tpep_pickup_datetime\").isin(1, 7).cast(\"int\")\n",
    ").groupBy(\"is_weekend\", \"passenger_count\").agg(\n",
    "    avg(\"total_amount\").alias(\"avg_total\"),\n",
    "    avg(\"fare_amount\").alias(\"avg_fare\"),\n",
    "    avg(\"tolls_amount\").alias(\"avg_tolls\"),\n",
    "    avg(\"tip_amount\").alias(\"avg_tip\")\n",
    ").orderBy(\"is_weekend\", \"passenger_count\")\n",
    "\n",
    "fare_comparison.show()"
   ]
  },
  {
   "cell_type": "markdown",
   "id": "7a7e0079-3256-430d-b249-493963986acc",
   "metadata": {},
   "source": [
    "#### Observation from above analysis\n",
    "\n",
    "##### 1. Fare Trends by Passenger Count:\n",
    "##### Weekdays:\n",
    "\n",
    "- <b>Peak at 4 Passengers</b>: Highest avg_total (34.08) and avg_fare (23.74),        likely due to longer business/family trips\n",
    "- <b> Sharp Drop for 5-6 Passengers</b>: Lower totals (26.45-26.53), suggesting        discounts or shorter trips (e.g shared ride).\n",
    "\n",
    "##### Weekends:\n",
    "- <b>Lower Overall Fares</b>: All passenger counts have lower totals vs weekdays      (e.g., 4 passengers: 28.48 vs 34.08).\n",
    "- <b>Similar Drop for 5–6 Passengers</b>: Consistent with weekday discounts but at lower absolute values.\n",
    "\n",
    "##### 2. Fare Components:\n",
    "##### Tolls:\n",
    "- Higher on weekdays (e.g., 4 passengers: 0.93 vs. 0.54 on weekends), likely due to commuters using toll roads.\n",
    "\n",
    "##### Tips:\n",
    "- Weekday tips peak at <b>2 passengers</b> ($3.93), possibly from business travelers.\n",
    "- Weekend tips are lower overall (max $3.62 for 2 passengers), reflecting leisure trips with smaller tips.\n",
    "\n",
    "##### 3. Weekend vs. Weekday Comparison:\n",
    "##### 1 Passenger:\n",
    "- Weekday total = $27.38 | Weekend = $26.05\n",
    "- Likely solo business travelers paying more on weekdays.\n",
    "##### 4 Passengers:\n",
    "- Weekday total = $34.08 | Weekend = $28.48\n",
    "- Indicates premium pricing for weekday group trips (e.g., airport rides).\n"
   ]
  },
  {
   "cell_type": "markdown",
   "id": "34710932-31d8-4752-bedb-8aa631ea0e19",
   "metadata": {},
   "source": [
    "### Recommendations\n",
    "\n",
    "#### Optimize Group Pricing:\n",
    "\n",
    " - Promote discounts for 5–6 passengers during off-peak hours to fill empty      seats.\n",
    "\n",
    " - Charge premiums for 4-passenger weekday rides (high-value segment).\n",
    "\n",
    "#### Driver Incentives:\n",
    "\n",
    " - Encourage drivers to accept 4-passenger rides during weekday rush hours.\n",
    "\n",
    " - Highlight toll-heavy routes to maximize earnings.\n",
    "\n",
    "#### Customer Targeting:\n",
    "\n",
    " - Market weekday commuter packages to businesses.\n",
    "\n",
    " - Offer weekend family/group discounts to boost demand.\n",
    "\n",
    "\n"
   ]
  }
 ],
 "metadata": {
  "kernelspec": {
   "display_name": "Python [conda env:base] *",
   "language": "python",
   "name": "conda-base-py"
  },
  "language_info": {
   "codemirror_mode": {
    "name": "ipython",
    "version": 3
   },
   "file_extension": ".py",
   "mimetype": "text/x-python",
   "name": "python",
   "nbconvert_exporter": "python",
   "pygments_lexer": "ipython3",
   "version": "3.12.7"
  }
 },
 "nbformat": 4,
 "nbformat_minor": 5
}
